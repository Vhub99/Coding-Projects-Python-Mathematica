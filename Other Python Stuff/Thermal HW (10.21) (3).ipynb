{
 "cells": [
  {
   "cell_type": "code",
   "execution_count": 3,
   "id": "18d2ed5e",
   "metadata": {},
   "outputs": [],
   "source": [
    "import matplotlib.pyplot as plt\n",
    "import numpy as np\n",
    "from scipy import constants as c\n"
   ]
  },
  {
   "cell_type": "code",
   "execution_count": 23,
   "id": "77fb4d7a",
   "metadata": {},
   "outputs": [
    {
     "name": "stdout",
     "output_type": "stream",
     "text": [
      "8.617333262e-05\n",
      "Partition Function at T: (1.0, 1.0004366644902993, 1.461333282597246, 1.9255533962485303)\n"
     ]
    },
    {
     "data": {
      "text/plain": [
       "<function matplotlib.pyplot.show(close=None, block=None)>"
      ]
     },
     "execution_count": 23,
     "metadata": {},
     "output_type": "execute_result"
    },
    {
     "data": {
      "image/png": "[encoded data removed]",
      "text/plain": [
       "<Figure size 432x288 with 1 Axes>"
      ]
     },
     "metadata": {
      "needs_background": "light"
     },
     "output_type": "display_data"
    }
   ],
   "source": [
    "k = c.physical_constants['Boltzmann constant in eV/K'][0]\n",
    "print(k)\n",
    "Z = lambda T: 1+np.exp(-2/(k*T))\n",
    "Tvals=T1,T2,T3,T4 = 300,3000,30000,300000\n",
    "Zvals=Z1,Z2,Z3,Z4 = Z(T1),Z(T2),Z(T3),Z(T4)\n",
    "print(\"Partition Function at T:\",Zvals)\n",
    "plt.plot(Tvals,Zvals,'-o')\n",
    "plt.show"
   ]
  },
  {
   "cell_type": "code",
   "execution_count": null,
   "id": "ee572d50",
   "metadata": {},
   "outputs": [],
   "source": []
  }
 ],
 "metadata": {
  "kernelspec": {
   "display_name": "Python 3",
   "language": "python",
   "name": "python3"
  },
  "language_info": {
   "codemirror_mode": {
    "name": "ipython",
    "version": 3
   },
   "file_extension": ".py",
   "mimetype": "text/x-python",
   "name": "python",
   "nbconvert_exporter": "python",
   "pygments_lexer": "ipython3",
   "version": "3.8.8"
  }
 },
 "nbformat": 4,
 "nbformat_minor": 5
}
